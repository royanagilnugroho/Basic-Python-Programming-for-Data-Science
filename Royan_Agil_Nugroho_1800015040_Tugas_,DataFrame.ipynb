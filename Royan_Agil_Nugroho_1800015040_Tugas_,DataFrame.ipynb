{
  "nbformat": 4,
  "nbformat_minor": 0,
  "metadata": {
    "colab": {
      "name": "Royan Agil Nugroho_1800015040_Tugas_,DataFrame.ipynb",
      "provenance": [],
      "collapsed_sections": []
    },
    "kernelspec": {
      "name": "python3",
      "display_name": "Python 3"
    },
    "language_info": {
      "name": "python"
    }
  },
  "cells": [
    {
      "cell_type": "markdown",
      "metadata": {
        "id": "TQTRIrnnv1d1"
      },
      "source": [
        "## Dataset"
      ]
    },
    {
      "cell_type": "code",
      "metadata": {
        "id": "gTW7SJWp-GFx"
      },
      "source": [
        "import pandas as pd\n",
        "import numpy as np"
      ],
      "execution_count": 3,
      "outputs": []
    },
    {
      "cell_type": "code",
      "metadata": {
        "colab": {
          "base_uri": "https://localhost:8080/",
          "height": 191
        },
        "id": "v1AmW3H0v4js",
        "outputId": "0546a84d-4cbe-42f5-c12e-2a3d092b1393"
      },
      "source": [
        "df = pd.read_csv(\"https://raw.githubusercontent.com/jokoeliyanto/Kelas-Dasar-Pejuang-Data-2.0/main/Super-Store-Dataset.csv\")\n",
        "df.head() "
      ],
      "execution_count": 9,
      "outputs": [
        {
          "output_type": "execute_result",
          "data": {
            "text/html": [
              "<div>\n",
              "<style scoped>\n",
              "    .dataframe tbody tr th:only-of-type {\n",
              "        vertical-align: middle;\n",
              "    }\n",
              "\n",
              "    .dataframe tbody tr th {\n",
              "        vertical-align: top;\n",
              "    }\n",
              "\n",
              "    .dataframe thead th {\n",
              "        text-align: right;\n",
              "    }\n",
              "</style>\n",
              "<table border=\"1\" class=\"dataframe\">\n",
              "  <thead>\n",
              "    <tr style=\"text-align: right;\">\n",
              "      <th></th>\n",
              "      <th>order_id</th>\n",
              "      <th>order_date</th>\n",
              "      <th>customer_id</th>\n",
              "      <th>segment</th>\n",
              "      <th>category</th>\n",
              "      <th>sub_category</th>\n",
              "      <th>sales</th>\n",
              "      <th>quantity</th>\n",
              "      <th>profit</th>\n",
              "    </tr>\n",
              "  </thead>\n",
              "  <tbody>\n",
              "    <tr>\n",
              "      <th>0</th>\n",
              "      <td>CA-2016-152156</td>\n",
              "      <td>11/8/2016</td>\n",
              "      <td>CG-12520</td>\n",
              "      <td>Consumer</td>\n",
              "      <td>Furniture</td>\n",
              "      <td>Bookcases</td>\n",
              "      <td>261.9600</td>\n",
              "      <td>2</td>\n",
              "      <td>41.9136</td>\n",
              "    </tr>\n",
              "    <tr>\n",
              "      <th>1</th>\n",
              "      <td>CA-2016-152156</td>\n",
              "      <td>11/8/2016</td>\n",
              "      <td>CG-12520</td>\n",
              "      <td>Consumer</td>\n",
              "      <td>Furniture</td>\n",
              "      <td>Chairs</td>\n",
              "      <td>731.9400</td>\n",
              "      <td>3</td>\n",
              "      <td>219.5820</td>\n",
              "    </tr>\n",
              "    <tr>\n",
              "      <th>2</th>\n",
              "      <td>CA-2016-138688</td>\n",
              "      <td>6/12/2016</td>\n",
              "      <td>DV-13045</td>\n",
              "      <td>Corporate</td>\n",
              "      <td>Office Supplies</td>\n",
              "      <td>Labels</td>\n",
              "      <td>14.6200</td>\n",
              "      <td>2</td>\n",
              "      <td>6.8714</td>\n",
              "    </tr>\n",
              "    <tr>\n",
              "      <th>3</th>\n",
              "      <td>US-2015-108966</td>\n",
              "      <td>10/11/2015</td>\n",
              "      <td>SO-20335</td>\n",
              "      <td>Consumer</td>\n",
              "      <td>Furniture</td>\n",
              "      <td>Tables</td>\n",
              "      <td>957.5775</td>\n",
              "      <td>5</td>\n",
              "      <td>-383.0310</td>\n",
              "    </tr>\n",
              "    <tr>\n",
              "      <th>4</th>\n",
              "      <td>US-2015-108966</td>\n",
              "      <td>10/11/2015</td>\n",
              "      <td>SO-20335</td>\n",
              "      <td>Consumer</td>\n",
              "      <td>Office Supplies</td>\n",
              "      <td>Storage</td>\n",
              "      <td>22.3680</td>\n",
              "      <td>2</td>\n",
              "      <td>2.5164</td>\n",
              "    </tr>\n",
              "  </tbody>\n",
              "</table>\n",
              "</div>"
            ],
            "text/plain": [
              "         order_id  order_date customer_id  ...     sales quantity    profit\n",
              "0  CA-2016-152156   11/8/2016    CG-12520  ...  261.9600        2   41.9136\n",
              "1  CA-2016-152156   11/8/2016    CG-12520  ...  731.9400        3  219.5820\n",
              "2  CA-2016-138688   6/12/2016    DV-13045  ...   14.6200        2    6.8714\n",
              "3  US-2015-108966  10/11/2015    SO-20335  ...  957.5775        5 -383.0310\n",
              "4  US-2015-108966  10/11/2015    SO-20335  ...   22.3680        2    2.5164\n",
              "\n",
              "[5 rows x 9 columns]"
            ]
          },
          "metadata": {
            "tags": []
          },
          "execution_count": 9
        }
      ]
    },
    {
      "cell_type": "markdown",
      "metadata": {
        "id": "fNJlxji43rIv"
      },
      "source": [
        "## Variabel dataset\n",
        "\n",
        "\n"
      ]
    },
    {
      "cell_type": "markdown",
      "metadata": {
        "id": "yELOC18jK11Q"
      },
      "source": [
        "Variabel-variabel yang terdapat pada dataset ini adalah sebagai berikut:\n",
        "1. **order_id** = Nomor ID pembelian(nota)\n",
        "2. **order_data** = Tanggal pembelian\n",
        "3. **customer_id** = Nomor ID pembeli\n",
        "4. **segment** = Segmen produk \n",
        "5. **category** = Kategori produk\n",
        "6. **sub_category** = Sub kategori produk\n",
        "7. **sales** = Total harga pembelian\n",
        "8. **quantity** = Jumlah produk dibeli\n",
        "9. **profit** = Keuntungan"
      ]
    },
    {
      "cell_type": "markdown",
      "metadata": {
        "id": "Aqo2bJTQK6oS"
      },
      "source": [
        ""
      ]
    },
    {
      "cell_type": "markdown",
      "metadata": {
        "id": "igjm48vdp5SF"
      },
      "source": [
        "#Tugas Individu"
      ]
    },
    {
      "cell_type": "markdown",
      "metadata": {
        "id": "FpTHwIfhS5mF"
      },
      "source": [
        "\n",
        "1. Tentukan Segment mana dengan profit tertinggi!  [30]\n",
        "2. Tentukan Category mana dengan sales terbanyak!  [30]\n",
        "3. Tentukan Sub-Category dengan quantity paling sedikit! [40]\n",
        "\n",
        "\n",
        "\n",
        "\n",
        "\n",
        "4. **Challange Question!!!  Tentukan Bulan dengan Profit Tertinggi!!!** \n",
        "\n",
        "Bonus Nilai 100 di Salah Satu Tugas Lainnya\n"
      ]
    },
    {
      "cell_type": "markdown",
      "metadata": {
        "id": "5Jw3lHsQ-TNe"
      },
      "source": [
        "**1. MENENTUKAN SEGMENT DENGAN PROFIT TERTINGGI**"
      ]
    },
    {
      "cell_type": "code",
      "metadata": {
        "colab": {
          "base_uri": "https://localhost:8080/"
        },
        "id": "nWGMw9-g-ePU",
        "outputId": "b399bd43-d465-4c79-e5da-d600f2eecff0"
      },
      "source": [
        "max_profit=df['profit'].max()\n",
        "df['segment'].iloc[df.index[df['profit']==max_profit].tolist()]"
      ],
      "execution_count": 11,
      "outputs": [
        {
          "output_type": "execute_result",
          "data": {
            "text/plain": [
              "9033    Consumer\n",
              "Name: segment, dtype: object"
            ]
          },
          "metadata": {
            "tags": []
          },
          "execution_count": 11
        }
      ]
    },
    {
      "cell_type": "markdown",
      "metadata": {
        "id": "u3XuZ1yi_BSl"
      },
      "source": [
        "### **2. MENENTUKAN CATEGORY SALES TERBANYAK**\n"
      ]
    },
    {
      "cell_type": "code",
      "metadata": {
        "colab": {
          "base_uri": "https://localhost:8080/"
        },
        "id": "IeoQE6rfAoPo",
        "outputId": "13c02c7a-3ccc-48f1-de4d-47047f46d639"
      },
      "source": [
        "max_sales=df['sales'].max()\n",
        "df['category'].iloc[df.index[df['sales']==max_sales]]"
      ],
      "execution_count": 12,
      "outputs": [
        {
          "output_type": "execute_result",
          "data": {
            "text/plain": [
              "9033    Office Supplies\n",
              "Name: category, dtype: object"
            ]
          },
          "metadata": {
            "tags": []
          },
          "execution_count": 12
        }
      ]
    },
    {
      "cell_type": "markdown",
      "metadata": {
        "id": "xm3qnrugBELV"
      },
      "source": [
        "## **3. Menentukan Sub-Catogory dengan quality menurun**"
      ]
    },
    {
      "cell_type": "code",
      "metadata": {
        "colab": {
          "base_uri": "https://localhost:8080/"
        },
        "id": "CNYJpqbuBdHG",
        "outputId": "b37ecda4-253d-4eda-909b-a0aba1152f90"
      },
      "source": [
        "min_quantity=df['quantity'].min()\n",
        "df['sub_category'].iloc[df.index[df['quantity']==min_quantity].tolist()]"
      ],
      "execution_count": 19,
      "outputs": [
        {
          "output_type": "execute_result",
          "data": {
            "text/plain": [
              "52           Chairs\n",
              "61              Art\n",
              "70          Binders\n",
              "74          Storage\n",
              "79       Appliances\n",
              "           ...     \n",
              "9958    Furnishings\n",
              "9959          Paper\n",
              "9974         Tables\n",
              "9980    Accessories\n",
              "9981    Accessories\n",
              "Name: sub_category, Length: 899, dtype: object"
            ]
          },
          "metadata": {
            "tags": []
          },
          "execution_count": 19
        }
      ]
    },
    {
      "cell_type": "code",
      "metadata": {
        "id": "IqMiHEftBU4B"
      },
      "source": [
        ""
      ],
      "execution_count": null,
      "outputs": []
    }
  ]
}